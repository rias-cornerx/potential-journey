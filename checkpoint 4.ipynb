{
 "cells": [
  {
   "cell_type": "code",
   "execution_count": 1,
   "id": "3205eb85",
   "metadata": {},
   "outputs": [
    {
     "data": {
      "text/plain": [
       "14"
      ]
     },
     "execution_count": 1,
     "metadata": {},
     "output_type": "execute_result"
    }
   ],
   "source": [
    "#number 5\n",
    "def Q(D, C=50, H=30,):\n",
    "    s=(2 * C * D )/H\n",
    "    from math import sqrt\n",
    "    t=sqrt(s)\n",
    "    return round(t)\n",
    "Q(58)"
   ]
  },
  {
   "cell_type": "code",
   "execution_count": 17,
   "id": "0b6dad5c",
   "metadata": {},
   "outputs": [
    {
     "data": {
      "text/plain": [
       "(50, 30)"
      ]
     },
     "execution_count": 17,
     "metadata": {},
     "output_type": "execute_result"
    }
   ],
   "source": [
    "#number 2\n",
    "def addsub(a,b):\n",
    "    x= a + b\n",
    "    y= a - b\n",
    "    return x,y\n",
    "\n",
    "addsub(40,10)"
   ]
  },
  {
   "cell_type": "code",
   "execution_count": 28,
   "id": "02379e05",
   "metadata": {},
   "outputs": [
    {
     "name": "stdout",
     "output_type": "stream",
     "text": [
      "55 3628800\n"
     ]
    }
   ],
   "source": [
    "#number 3\n",
    "list=[1,2,3,4,5,6,7,8,9,10]\n",
    "\n",
    "x=sum(list)\n",
    "\n",
    "from math import prod\n",
    "y=prod(list)\n",
    "\n",
    "print(x,y) "
   ]
  },
  {
   "cell_type": "code",
   "execution_count": 1,
   "id": "2ce887dd",
   "metadata": {},
   "outputs": [
    {
     "name": "stdout",
     "output_type": "stream",
     "text": [
      "53\n"
     ]
    }
   ],
   "source": [
    "#number 1\n",
    "def max(a, b, c):\n",
    "    if a>b and a>c:\n",
    "        print(a)\n",
    "    elif b>a and b>c:\n",
    "        print(b)\n",
    "    elif c>a and c>b:\n",
    "        print(c)\n",
    "    else:\n",
    "        return 0\n",
    "        \n",
    "max(30, 48, 53)"
   ]
  },
  {
   "cell_type": "code",
   "execution_count": 2,
   "id": "d9a36da4",
   "metadata": {},
   "outputs": [
    {
     "name": "stdout",
     "output_type": "stream",
     "text": [
      "green-red-black-yellow\n",
      "black-green-red-yellow\n"
     ]
    }
   ],
   "source": [
    "#number 4\n",
    "items=[n for n in input().split('-')]\n",
    "items.sort()\n",
    "print('-'.join(items))\n"
   ]
  },
  {
   "cell_type": "code",
   "execution_count": null,
   "id": "c017c083",
   "metadata": {},
   "outputs": [],
   "source": []
  },
  {
   "cell_type": "code",
   "execution_count": null,
   "id": "36aba21a",
   "metadata": {},
   "outputs": [],
   "source": []
  }
 ],
 "metadata": {
  "kernelspec": {
   "display_name": "Python 3 (ipykernel)",
   "language": "python",
   "name": "python3"
  },
  "language_info": {
   "codemirror_mode": {
    "name": "ipython",
    "version": 3
   },
   "file_extension": ".py",
   "mimetype": "text/x-python",
   "name": "python",
   "nbconvert_exporter": "python",
   "pygments_lexer": "ipython3",
   "version": "3.9.7"
  }
 },
 "nbformat": 4,
 "nbformat_minor": 5
}
