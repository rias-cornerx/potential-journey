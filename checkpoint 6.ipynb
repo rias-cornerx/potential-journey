{
 "cells": [
  {
   "cell_type": "code",
   "execution_count": 32,
   "id": "dc32c7a4",
   "metadata": {},
   "outputs": [
    {
     "name": "stdout",
     "output_type": "stream",
     "text": [
      "[[20, 28, 29], [22, 18, 13], [23, 21, 18], [5, 17, 24], [9, 20, 6]]\n"
     ]
    }
   ],
   "source": [
    "#write a python program to convert an array to an ordinary list\n",
    "#with the same items\n",
    "#we can use the np.tolist() function.\n",
    "\n",
    "    \n",
    "import numpy as np\n",
    "\n",
    "def nptolist(X):\n",
    "    num_list = X.tolist()\n",
    "    print(num_list)\n",
    "\n",
    "    \n",
    "X = np.array([[20, 28, 29], [22, 18, 13], [23, 21, 18], [5, 17, 24], [9, 20, 6]])\n",
    "\n",
    "nptolist(X)\n",
    "\n",
    "\n"
   ]
  },
  {
   "cell_type": "code",
   "execution_count": 26,
   "id": "eb239ac8",
   "metadata": {},
   "outputs": [
    {
     "name": "stdout",
     "output_type": "stream",
     "text": [
      "[[20 28 29]\n",
      " [22 18 13]\n",
      " [23 21 18]]\n",
      "the diagonal is [20 18 18]\n",
      "56\n"
     ]
    }
   ],
   "source": [
    "#write a NumPy program to compute the sum of diagonal elements\n",
    "#of a given array\n",
    "#Hint: two methods to solve this problem:\n",
    "#1. manually(without direct function)\n",
    "#2. using the trace function\n",
    "\n",
    "\n",
    "import numpy as np\n",
    "\n",
    "X = np.array([[20, 28, 29], [22, 18, 13], [23, 21,18]])\n",
    "\n",
    "#\n",
    "diag = np.diagonal(X)\n",
    "\n",
    "print(X)\n",
    "\n",
    "print(\"the diagonal is\", diag)\n",
    "\n",
    "\n",
    "print(sum(diag))\n",
    "\n",
    "\n"
   ]
  },
  {
   "cell_type": "code",
   "execution_count": 33,
   "id": "182d32fc",
   "metadata": {},
   "outputs": [
    {
     "name": "stdout",
     "output_type": "stream",
     "text": [
      "[20 28 29 22 18 23 21 18 17 24 20]\n"
     ]
    }
   ],
   "source": [
    "#given an array of your choice\n",
    "#get all values higher than X:\n",
    "#if a = [[1,2],[3,5]] and X = 2 : then result is 3,5\n",
    "#because they are higher than 2\n",
    "\n",
    "import numpy as np\n",
    "\n",
    "x = np.array([[20, 28, 29], [22, 18, 13], [23, 21, 18], [5, 17, 24], [9, 20, 6]])\n",
    "\n",
    "print(x[x>13])"
   ]
  },
  {
   "cell_type": "code",
   "execution_count": 20,
   "id": "34859717",
   "metadata": {
    "scrolled": false
   },
   "outputs": [
    {
     "name": "stdout",
     "output_type": "stream",
     "text": [
      "[[ 5  9  9]\n",
      " [ 4  8 13]\n",
      " [12 12 12]]\n"
     ]
    }
   ],
   "source": [
    "#given 2 arrays A & B have the same shape\n",
    "#the task is to apply addition by hand:\n",
    "#C is the new array\n",
    "\n",
    "import numpy as np\n",
    "\n",
    "A = np.array([[3,4,5],[1,6,4],[6,9,4]])\n",
    "\n",
    "B = np.array([[2,5,4],[3,2,9],[6,3,8]])\n",
    "\n",
    "C = A + B\n",
    "\n",
    "\n",
    "print(C)\n",
    "\n",
    "\n",
    "\n"
   ]
  },
  {
   "cell_type": "code",
   "execution_count": 40,
   "id": "1c3cd70f",
   "metadata": {
    "scrolled": false
   },
   "outputs": [
    {
     "data": {
      "text/plain": [
       "array([-3.33333333,  2.        , -0.33333333,  2.        , -0.33333333])"
      ]
     },
     "execution_count": 40,
     "metadata": {},
     "output_type": "execute_result"
    }
   ],
   "source": [
    "#write a NumPy program to subtract the mean\n",
    "#of each row of a given matrix\n",
    "#hint: use the mean function\n",
    "\n",
    "import numpy as np\n",
    "\n",
    "X = np.array([[24, 20, 27], [22, 19, 14], [24, 20,18], [5, 15, 35], [9, 35, 18]])\n",
    "\n",
    "W = np.mean(X, axis=1)\n",
    "\n",
    "Y = np.mean(X)\n",
    "\n",
    "z = Y - W\n",
    "\n",
    "z\n"
   ]
  },
  {
   "cell_type": "code",
   "execution_count": null,
   "id": "2b226558",
   "metadata": {},
   "outputs": [],
   "source": []
  },
  {
   "cell_type": "code",
   "execution_count": null,
   "id": "46337710",
   "metadata": {},
   "outputs": [],
   "source": []
  }
 ],
 "metadata": {
  "kernelspec": {
   "display_name": "Python 3 (ipykernel)",
   "language": "python",
   "name": "python3"
  },
  "language_info": {
   "codemirror_mode": {
    "name": "ipython",
    "version": 3
   },
   "file_extension": ".py",
   "mimetype": "text/x-python",
   "name": "python",
   "nbconvert_exporter": "python",
   "pygments_lexer": "ipython3",
   "version": "3.9.7"
  }
 },
 "nbformat": 4,
 "nbformat_minor": 5
}
