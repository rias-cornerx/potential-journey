{
 "cells": [
  {
   "cell_type": "code",
   "execution_count": 5,
   "id": "aa612e28",
   "metadata": {},
   "outputs": [
    {
     "name": "stdout",
     "output_type": "stream",
     "text": [
      "(1, 2, 3)\n"
     ]
    }
   ],
   "source": [
    "#Write a python class named Point3D defined by x, y, and z. \n",
    "#Define a method that returns (x, y ,z). \n",
    "#This tells Python to represent this object in the following format: (x, y, z). \n",
    "#Then create a variable named my_point \n",
    "#containing a new instance of Point3D with x=1, y=2, and z=3 and print it.\n",
    "class POINT3D :\n",
    "    \n",
    "    def _init_(self,x,y,z):\n",
    "        self.x = x\n",
    "        self.y = y\n",
    "        self.z = z\n",
    "        \n",
    "    def cords(self):\n",
    "        print((self.x,self.y,self.z))\n",
    "\n",
    "my_point = POINT3D()\n",
    "my_point.x = 1\n",
    "my_point.y = 2\n",
    "my_point.z = 3\n",
    "\n",
    "my_point.cords()"
   ]
  },
  {
   "cell_type": "code",
   "execution_count": 21,
   "id": "ff1a2838",
   "metadata": {
    "scrolled": false
   },
   "outputs": [
    {
     "name": "stdout",
     "output_type": "stream",
     "text": [
      "12\n",
      "14\n"
     ]
    }
   ],
   "source": [
    "#Write a Python class named Rectangle constructed by a length and width. \n",
    "#Define two methods area and perimeter which will compute the area and the perimeter of the rectangle. \n",
    "#Then create a variable named my_rectangle containing a new instance of \n",
    "#Rectangle with width=3 and length = 4 and compute both of area and perimeter \n",
    "#(the area is expected to be 3*4=12 and perimeter 2*(3+4)=14)\n",
    "\n",
    "class RECTANGLE:\n",
    "    \n",
    "    def _init_(self, length, breadth):\n",
    "        self.length = length\n",
    "        self.breadth = breadth\n",
    "        \n",
    "    def area(self):\n",
    "        A = self.length * self.breadth\n",
    "        return A\n",
    "    \n",
    "    def perimeter(self):\n",
    "        X = self.length + self.breadth\n",
    "        Y = 2 * X\n",
    "        return Y\n",
    "    \n",
    "my_rectangle = RECTANGLE()\n",
    "my_rectangle.length = 4\n",
    "my_rectangle.breadth = 3\n",
    "\n",
    "print (my_rectangle.area())\n",
    "print (my_rectangle.perimeter())"
   ]
  },
  {
   "cell_type": "code",
   "execution_count": 18,
   "id": "1a627c3c",
   "metadata": {
    "scrolled": true
   },
   "outputs": [
    {
     "name": "stdout",
     "output_type": "stream",
     "text": [
      "inside\n",
      "None\n"
     ]
    }
   ],
   "source": [
    "#Write a Python  class named Circle constructed by its center O and radius r. \n",
    "#Define two methods area and perimeter which will compute the area and the perimeter of the circle, and \n",
    "#isInside() method of the class which allows to test whether a point A(x, y) belongs to the circle C(O, r) \n",
    "#or not.\n",
    "\n",
    "class Circle:\n",
    "    \n",
    "    def _init_(self,centre,radius):\n",
    "        self.centre = 0\n",
    "        self.radius = radius\n",
    "        \n",
    "    from math import pi\n",
    "        \n",
    "    def perimeter(self):\n",
    "        return 2 * pi * self.radius\n",
    "     \n",
    "    def area(self):\n",
    "        return pi * self.radius**2\n",
    "    \n",
    "class PointA(Circle):\n",
    "    \n",
    "    def _init_(self,x,y):\n",
    "        self.x = x\n",
    "        self.y = y\n",
    "        \n",
    "    def IsInside(self):\n",
    "        \n",
    "        eqn = self.x**2 + self.y**2\n",
    "        \n",
    "        if eqn <= self.radius**2:\n",
    "            print(\"inside\")\n",
    "            \n",
    "        else:\n",
    "            print(\"outside\")\n",
    "            \n",
    "             \n",
    "    \n",
    "my_circle = PointA()\n",
    "my_circle.radius = 12\n",
    "my_circle.x = 4\n",
    "my_circle.y = 6\n",
    "print(my_circle.IsInside())       \n"
   ]
  },
  {
   "cell_type": "code",
   "execution_count": 49,
   "id": "0452e227",
   "metadata": {
    "scrolled": false
   },
   "outputs": [
    {
     "name": "stdout",
     "output_type": "stream",
     "text": [
      "39613210\n",
      "44578937\n"
     ]
    }
   ],
   "source": [
    "#Suppose we want to model a bank account with support for deposit and withdraw operations. \n",
    "#Let’s create a python class named bank defined by its balance. \n",
    "#Define two methods deposit and withdraw to compute the new amount of each operation.\n",
    "\n",
    "\n",
    "class Bank:\n",
    "    \n",
    "    def _init_(self, balance):\n",
    "        self.balance = balance\n",
    "        \n",
    "    \n",
    "    def withdraw(self):\n",
    "        \n",
    "        return self.balance - debit\n",
    "\n",
    "    \n",
    "    def deposit(self):\n",
    "        \n",
    "        return self.balance + credit\n",
    "\n",
    "\n",
    "\n",
    "\n",
    "\n",
    "Erere = Bank()\n",
    "Erere.balance = 40000000\n",
    "debit = 386790\n",
    "credit = 4578937\n",
    "print(Erere.withdraw())\n",
    "print(Erere.deposit())"
   ]
  },
  {
   "cell_type": "code",
   "execution_count": null,
   "id": "6cd74cf1",
   "metadata": {},
   "outputs": [],
   "source": []
  }
 ],
 "metadata": {
  "kernelspec": {
   "display_name": "Python 3 (ipykernel)",
   "language": "python",
   "name": "python3"
  },
  "language_info": {
   "codemirror_mode": {
    "name": "ipython",
    "version": 3
   },
   "file_extension": ".py",
   "mimetype": "text/x-python",
   "name": "python",
   "nbconvert_exporter": "python",
   "pygments_lexer": "ipython3",
   "version": "3.9.7"
  }
 },
 "nbformat": 4,
 "nbformat_minor": 5
}
